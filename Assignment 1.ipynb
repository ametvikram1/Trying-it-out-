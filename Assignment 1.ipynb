{
 "cells": [
  {
   "cell_type": "code",
   "execution_count": 1,
   "id": "9643acb4-6682-4b5f-a2d8-58b6073fea0c",
   "metadata": {},
   "outputs": [],
   "source": [
    "#Q1. Create one variable containing following type of data:\n",
    "\n",
    "#string\n",
    "a='shank'\n",
    "\n",
    "#list\n",
    "b=(1,2,3,'shank')\n",
    "\n",
    "#float\n",
    "c=45.89\n",
    "\n",
    "#tuple\n",
    "d_tuple=(1,[4,5,6],7)"
   ]
  },
  {
   "cell_type": "code",
   "execution_count": 2,
   "id": "104873ce-5536-4916-b700-b60c65bcd989",
   "metadata": {},
   "outputs": [],
   "source": [
    "#Q2. Data type\n",
    "e= 'sink'\n",
    "f='[DS, ML, Python]'\n",
    "g=['DS', 'ML', 'Python']\n",
    "h= 5"
   ]
  },
  {
   "cell_type": "code",
   "execution_count": 3,
   "id": "49404682-4ab9-4e9c-96b5-382e29dce9bc",
   "metadata": {},
   "outputs": [
    {
     "data": {
      "text/plain": [
       "str"
      ]
     },
     "execution_count": 3,
     "metadata": {},
     "output_type": "execute_result"
    }
   ],
   "source": [
    "#Q2\n",
    "type (e)"
   ]
  },
  {
   "cell_type": "code",
   "execution_count": 4,
   "id": "bfe43075-7755-49be-aa4b-722917ea1a4e",
   "metadata": {},
   "outputs": [
    {
     "data": {
      "text/plain": [
       "str"
      ]
     },
     "execution_count": 4,
     "metadata": {},
     "output_type": "execute_result"
    }
   ],
   "source": [
    "type (f)"
   ]
  },
  {
   "cell_type": "code",
   "execution_count": 5,
   "id": "381cebf3-663d-489c-aeae-80c09b5eed62",
   "metadata": {},
   "outputs": [
    {
     "data": {
      "text/plain": [
       "list"
      ]
     },
     "execution_count": 5,
     "metadata": {},
     "output_type": "execute_result"
    }
   ],
   "source": [
    "type(g)"
   ]
  },
  {
   "cell_type": "code",
   "execution_count": 6,
   "id": "61d06168-b136-4c64-b984-6fe1a250d692",
   "metadata": {},
   "outputs": [
    {
     "data": {
      "text/plain": [
       "int"
      ]
     },
     "execution_count": 6,
     "metadata": {},
     "output_type": "execute_result"
    }
   ],
   "source": [
    "type(h)"
   ]
  },
  {
   "cell_type": "markdown",
   "id": "37abf2fe-d5d4-42da-a1a6-f1c396d7304a",
   "metadata": {},
   "source": [
    "Q3. Explain the use of the following operators using an example:\n",
    "\n",
    "(i)\t/\n",
    "ans. floating point Division\n",
    "\n",
    "(ii)\t% \n",
    "ans. to obtain remainder\n",
    "\n",
    "(iii)\t//\n",
    "ans. floor division\n",
    "(iv)\t**\n",
    "ans. exponent"
   ]
  },
  {
   "cell_type": "code",
   "execution_count": 7,
   "id": "87419bc0-96c2-4b5c-8490-938de2e7ae3a",
   "metadata": {},
   "outputs": [
    {
     "name": "stdout",
     "output_type": "stream",
     "text": [
      "2\n",
      "3\n",
      "4\n",
      "5\n",
      "krish\n",
      "yo\n",
      "45\n",
      "hero\n",
      "23\n",
      "reo\n"
     ]
    }
   ],
   "source": [
    "l= {2,45,23,4,3,5,'hero','krish','reo','yo'}\n",
    "for i in l:\n",
    "    print (i)"
   ]
  },
  {
   "cell_type": "code",
   "execution_count": 18,
   "id": "2e495fff-724a-42a9-adc8-1ec91f3fb92f",
   "metadata": {},
   "outputs": [
    {
     "name": "stdin",
     "output_type": "stream",
     "text": [
      "enter a value for A   75\n",
      "enter a value for B   5\n"
     ]
    },
    {
     "name": "stdout",
     "output_type": "stream",
     "text": [
      "The number 456 is divisible by 5 2 times.\n"
     ]
    }
   ],
   "source": [
    "''' Using a while loop, verify if the number A is purely divisible by number B and if so then how many\n",
    "times it can be divisible.'''\n",
    "A=int(input('enter a value for A  '))\n",
    "B=int(input('enter a value for B  '))\n",
    "i=0\n",
    "\n",
    "while A%B==0:\n",
    "    i += 1\n",
    "    A//=B\n",
    "\n",
    "print(f\"The number {C} is divisible by {B} {i} times.\")"
   ]
  },
  {
   "cell_type": "code",
   "execution_count": 25,
   "id": "815420cc-8fab-4a23-a010-5141687b0aaf",
   "metadata": {},
   "outputs": [
    {
     "name": "stdout",
     "output_type": "stream",
     "text": [
      "1 this number is not divisible by 3\n",
      "56 this number is not divisible by 3\n",
      "6  is divisible by 3\n",
      "34 this number is not divisible by 3\n",
      "6  is divisible by 3\n",
      "34 this number is not divisible by 3\n",
      "99  is divisible by 3\n",
      "108  is divisible by 3\n",
      "45  is divisible by 3\n",
      "67 this number is not divisible by 3\n",
      "45  is divisible by 3\n",
      "32 this number is not divisible by 3\n",
      "33  is divisible by 3\n",
      "11 this number is not divisible by 3\n",
      "14 this number is not divisible by 3\n",
      "16 this number is not divisible by 3\n",
      "1654 this number is not divisible by 3\n",
      "4523 this number is not divisible by 3\n",
      "5465 this number is not divisible by 3\n",
      "45  is divisible by 3\n",
      "4353  is divisible by 3\n",
      "3443 this number is not divisible by 3\n",
      "5665 this number is not divisible by 3\n",
      "65 this number is not divisible by 3\n",
      "546  is divisible by 3\n"
     ]
    }
   ],
   "source": [
    "'''Create a list containing 25 int type data. Using for loop and if-else condition print if the element is\n",
    "divisible by 3 or not'''\n",
    "Z=[1,56,6,34,6,34,99,108,45,67,45,32,33,11,14,16,1654,4523,5465,45,4353,3443,5665,65,546]\n",
    "for i in Z:\n",
    "    if i%3==0:\n",
    "        print(i, ' is divisible by 3')\n",
    "    else:\n",
    "        print(i, 'this number is not divisible by 3')"
   ]
  },
  {
   "cell_type": "markdown",
   "id": "d74452ac-0552-4f91-8803-e99e1fd55a1e",
   "metadata": {},
   "source": [
    "Mutable data types can be modified according to needs without changing the character of the data, but immutable data types cannot be modified without changing its very character. Examples of Mutable data types are List, while immutable data types are str, float and tuples."
   ]
  }
 ],
 "metadata": {
  "kernelspec": {
   "display_name": "Python 3 (ipykernel)",
   "language": "python",
   "name": "python3"
  },
  "language_info": {
   "codemirror_mode": {
    "name": "ipython",
    "version": 3
   },
   "file_extension": ".py",
   "mimetype": "text/x-python",
   "name": "python",
   "nbconvert_exporter": "python",
   "pygments_lexer": "ipython3",
   "version": "3.10.8"
  }
 },
 "nbformat": 4,
 "nbformat_minor": 5
}
